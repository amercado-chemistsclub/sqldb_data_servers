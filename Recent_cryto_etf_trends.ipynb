{
  "nbformat": 4,
  "nbformat_minor": 0,
  "metadata": {
    "colab": {
      "name": "Recent_cryto_etf_trends.ipynb",
      "provenance": []
    },
    "kernelspec": {
      "name": "python3",
      "display_name": "Python 3"
    },
    "language_info": {
      "name": "python"
    }
  },
  "cells": [
    {
      "cell_type": "code",
      "metadata": {
        "colab": {
          "base_uri": "https://localhost:8080/"
        },
        "id": "RSgPundY5Awz",
        "outputId": "90da8099-406c-4585-db3d-20c52feba657"
      },
      "source": [
        "#Install dependencies\n",
        "!pip install pytrends"
      ],
      "execution_count": null,
      "outputs": [
        {
          "output_type": "stream",
          "text": [
            "Collecting pytrends\n",
            "  Downloading https://files.pythonhosted.org/packages/96/53/a4a74c33bfdbe1740183e00769377352072e64182913562daf9f5e4f1938/pytrends-4.7.3-py3-none-any.whl\n",
            "Requirement already satisfied: requests in /usr/local/lib/python3.7/dist-packages (from pytrends) (2.23.0)\n",
            "Requirement already satisfied: lxml in /usr/local/lib/python3.7/dist-packages (from pytrends) (4.2.6)\n",
            "Requirement already satisfied: pandas>=0.25 in /usr/local/lib/python3.7/dist-packages (from pytrends) (1.1.5)\n",
            "Requirement already satisfied: chardet<4,>=3.0.2 in /usr/local/lib/python3.7/dist-packages (from requests->pytrends) (3.0.4)\n",
            "Requirement already satisfied: urllib3!=1.25.0,!=1.25.1,<1.26,>=1.21.1 in /usr/local/lib/python3.7/dist-packages (from requests->pytrends) (1.24.3)\n",
            "Requirement already satisfied: certifi>=2017.4.17 in /usr/local/lib/python3.7/dist-packages (from requests->pytrends) (2020.12.5)\n",
            "Requirement already satisfied: idna<3,>=2.5 in /usr/local/lib/python3.7/dist-packages (from requests->pytrends) (2.10)\n",
            "Requirement already satisfied: pytz>=2017.2 in /usr/local/lib/python3.7/dist-packages (from pandas>=0.25->pytrends) (2018.9)\n",
            "Requirement already satisfied: python-dateutil>=2.7.3 in /usr/local/lib/python3.7/dist-packages (from pandas>=0.25->pytrends) (2.8.1)\n",
            "Requirement already satisfied: numpy>=1.15.4 in /usr/local/lib/python3.7/dist-packages (from pandas>=0.25->pytrends) (1.19.5)\n",
            "Requirement already satisfied: six>=1.5 in /usr/local/lib/python3.7/dist-packages (from python-dateutil>=2.7.3->pandas>=0.25->pytrends) (1.15.0)\n",
            "Installing collected packages: pytrends\n",
            "Successfully installed pytrends-4.7.3\n"
          ],
          "name": "stdout"
        }
      ]
    },
    {
      "cell_type": "code",
      "metadata": {
        "colab": {
          "base_uri": "https://localhost:8080/"
        },
        "id": "17jb_O7w5MGV",
        "outputId": "013fc36a-0492-4074-ff34-3422ea1faa5a"
      },
      "source": [
        "!pip install cryptory"
      ],
      "execution_count": null,
      "outputs": [
        {
          "output_type": "stream",
          "text": [
            "Collecting cryptory\n",
            "  Downloading https://files.pythonhosted.org/packages/5f/5b/2f53f31566b4bc81cb5029c883bdde1edc965e48892582637dc28f187952/cryptory-0.1.1.tar.gz\n",
            "Requirement already satisfied: pandas>=0.23.0 in /usr/local/lib/python3.7/dist-packages (from cryptory) (1.1.5)\n",
            "Requirement already satisfied: numpy>=1.14.0 in /usr/local/lib/python3.7/dist-packages (from cryptory) (1.19.5)\n",
            "Requirement already satisfied: pytrends>=4.4.0 in /usr/local/lib/python3.7/dist-packages (from cryptory) (4.7.3)\n",
            "Requirement already satisfied: beautifulsoup4>=4.0.0 in /usr/local/lib/python3.7/dist-packages (from cryptory) (4.6.3)\n",
            "Requirement already satisfied: pytz>=2017.2 in /usr/local/lib/python3.7/dist-packages (from pandas>=0.23.0->cryptory) (2018.9)\n",
            "Requirement already satisfied: python-dateutil>=2.7.3 in /usr/local/lib/python3.7/dist-packages (from pandas>=0.23.0->cryptory) (2.8.1)\n",
            "Requirement already satisfied: requests in /usr/local/lib/python3.7/dist-packages (from pytrends>=4.4.0->cryptory) (2.23.0)\n",
            "Requirement already satisfied: lxml in /usr/local/lib/python3.7/dist-packages (from pytrends>=4.4.0->cryptory) (4.2.6)\n",
            "Requirement already satisfied: six>=1.5 in /usr/local/lib/python3.7/dist-packages (from python-dateutil>=2.7.3->pandas>=0.23.0->cryptory) (1.15.0)\n",
            "Requirement already satisfied: idna<3,>=2.5 in /usr/local/lib/python3.7/dist-packages (from requests->pytrends>=4.4.0->cryptory) (2.10)\n",
            "Requirement already satisfied: certifi>=2017.4.17 in /usr/local/lib/python3.7/dist-packages (from requests->pytrends>=4.4.0->cryptory) (2020.12.5)\n",
            "Requirement already satisfied: urllib3!=1.25.0,!=1.25.1,<1.26,>=1.21.1 in /usr/local/lib/python3.7/dist-packages (from requests->pytrends>=4.4.0->cryptory) (1.24.3)\n",
            "Requirement already satisfied: chardet<4,>=3.0.2 in /usr/local/lib/python3.7/dist-packages (from requests->pytrends>=4.4.0->cryptory) (3.0.4)\n",
            "Building wheels for collected packages: cryptory\n",
            "  Building wheel for cryptory (setup.py) ... \u001b[?25l\u001b[?25hdone\n",
            "  Created wheel for cryptory: filename=cryptory-0.1.1-cp37-none-any.whl size=9191 sha256=ae218adb4eb689d6a140ee8455c8f1fbaf6589d2c58644f9707e7a30fbc9eddd\n",
            "  Stored in directory: /root/.cache/pip/wheels/ec/b4/6f/6ae72a8dc1ca028c78d88b90381b34166b2b6d61c99349bf4c\n",
            "Successfully built cryptory\n",
            "Installing collected packages: cryptory\n",
            "Successfully installed cryptory-0.1.1\n"
          ],
          "name": "stdout"
        }
      ]
    },
    {
      "cell_type": "code",
      "metadata": {
        "id": "BYzIe7C65fji"
      },
      "source": [
        "from cryptory import Cryptory\n",
        "import pandas as pd"
      ],
      "execution_count": null,
      "outputs": []
    },
    {
      "cell_type": "code",
      "metadata": {
        "id": "yYvtv5H26Hc0"
      },
      "source": [
        "# initialise object \n",
        "# pull data from start of month (March) to present day\n",
        "\n",
        "my_cryptory = Cryptory(from_date = \"2021-03-01\")"
      ],
      "execution_count": null,
      "outputs": []
    },
    {
      "cell_type": "code",
      "metadata": {
        "id": "A0DytwxF8T5q"
      },
      "source": [
        "import pandas_datareader as pdr\n",
        "import numpy as np"
      ],
      "execution_count": null,
      "outputs": []
    },
    {
      "cell_type": "code",
      "metadata": {
        "id": "u4Rff19q6XUw"
      },
      "source": [
        "# Use Yahoo finance API to get ticker prices\n",
        "# Select tickers that track cryptocurrency\n",
        "\n",
        "all_stocks_df = pdr.get_data_yahoo('RIOT', start='2021-03-01')\n",
        "# stocks of interest\n",
        "stocks = [\"RIOT\", \"MARA\"]\n",
        "for stock in stocks[1:]:\n",
        "    all_stocks_df = all_stocks_df.merge(pdr.get_data_yahoo(stock, start='2021-03-01'),how=\"left\",left_index=True, right_index=True)"
      ],
      "execution_count": null,
      "outputs": []
    },
    {
      "cell_type": "code",
      "metadata": {
        "colab": {
          "base_uri": "https://localhost:8080/",
          "height": 238
        },
        "id": "KUKOgWl1FCsJ",
        "outputId": "87c99a70-096c-4a0a-da1a-c83229bb3743"
      },
      "source": [
        "#REview the data\n",
        "all_stocks_df.head()"
      ],
      "execution_count": null,
      "outputs": [
        {
          "output_type": "execute_result",
          "data": {
            "text/html": [
              "<div>\n",
              "<style scoped>\n",
              "    .dataframe tbody tr th:only-of-type {\n",
              "        vertical-align: middle;\n",
              "    }\n",
              "\n",
              "    .dataframe tbody tr th {\n",
              "        vertical-align: top;\n",
              "    }\n",
              "\n",
              "    .dataframe thead th {\n",
              "        text-align: right;\n",
              "    }\n",
              "</style>\n",
              "<table border=\"1\" class=\"dataframe\">\n",
              "  <thead>\n",
              "    <tr style=\"text-align: right;\">\n",
              "      <th></th>\n",
              "      <th>High_x</th>\n",
              "      <th>Low_x</th>\n",
              "      <th>Open_x</th>\n",
              "      <th>Close_x</th>\n",
              "      <th>Volume_x</th>\n",
              "      <th>Adj Close_x</th>\n",
              "      <th>High_y</th>\n",
              "      <th>Low_y</th>\n",
              "      <th>Open_y</th>\n",
              "      <th>Close_y</th>\n",
              "      <th>Volume_y</th>\n",
              "      <th>Adj Close_y</th>\n",
              "    </tr>\n",
              "    <tr>\n",
              "      <th>Date</th>\n",
              "      <th></th>\n",
              "      <th></th>\n",
              "      <th></th>\n",
              "      <th></th>\n",
              "      <th></th>\n",
              "      <th></th>\n",
              "      <th></th>\n",
              "      <th></th>\n",
              "      <th></th>\n",
              "      <th></th>\n",
              "      <th></th>\n",
              "      <th></th>\n",
              "    </tr>\n",
              "  </thead>\n",
              "  <tbody>\n",
              "    <tr>\n",
              "      <th>2021-03-01</th>\n",
              "      <td>53.810001</td>\n",
              "      <td>46.580002</td>\n",
              "      <td>49.040001</td>\n",
              "      <td>53.599998</td>\n",
              "      <td>26045400</td>\n",
              "      <td>53.599998</td>\n",
              "      <td>38.500000</td>\n",
              "      <td>32.330002</td>\n",
              "      <td>34.220001</td>\n",
              "      <td>38.500000</td>\n",
              "      <td>22547300</td>\n",
              "      <td>38.500000</td>\n",
              "    </tr>\n",
              "    <tr>\n",
              "      <th>2021-03-02</th>\n",
              "      <td>57.020000</td>\n",
              "      <td>48.500000</td>\n",
              "      <td>57.000000</td>\n",
              "      <td>49.099998</td>\n",
              "      <td>23287700</td>\n",
              "      <td>49.099998</td>\n",
              "      <td>40.000000</td>\n",
              "      <td>34.669998</td>\n",
              "      <td>40.000000</td>\n",
              "      <td>34.889999</td>\n",
              "      <td>17134000</td>\n",
              "      <td>34.889999</td>\n",
              "    </tr>\n",
              "    <tr>\n",
              "      <th>2021-03-03</th>\n",
              "      <td>55.279999</td>\n",
              "      <td>48.599998</td>\n",
              "      <td>55.139999</td>\n",
              "      <td>49.570000</td>\n",
              "      <td>21616300</td>\n",
              "      <td>49.570000</td>\n",
              "      <td>38.450001</td>\n",
              "      <td>34.830002</td>\n",
              "      <td>38.110001</td>\n",
              "      <td>36.619999</td>\n",
              "      <td>18378800</td>\n",
              "      <td>36.619999</td>\n",
              "    </tr>\n",
              "    <tr>\n",
              "      <th>2021-03-04</th>\n",
              "      <td>49.000000</td>\n",
              "      <td>41.330002</td>\n",
              "      <td>47.400002</td>\n",
              "      <td>44.290001</td>\n",
              "      <td>19960900</td>\n",
              "      <td>44.290001</td>\n",
              "      <td>36.200001</td>\n",
              "      <td>28.500000</td>\n",
              "      <td>34.349998</td>\n",
              "      <td>32.009998</td>\n",
              "      <td>20759800</td>\n",
              "      <td>32.009998</td>\n",
              "    </tr>\n",
              "    <tr>\n",
              "      <th>2021-03-05</th>\n",
              "      <td>45.250000</td>\n",
              "      <td>34.250000</td>\n",
              "      <td>44.990002</td>\n",
              "      <td>40.299999</td>\n",
              "      <td>27559900</td>\n",
              "      <td>40.299999</td>\n",
              "      <td>32.880001</td>\n",
              "      <td>24.110001</td>\n",
              "      <td>32.400002</td>\n",
              "      <td>30.030001</td>\n",
              "      <td>24155200</td>\n",
              "      <td>30.030001</td>\n",
              "    </tr>\n",
              "  </tbody>\n",
              "</table>\n",
              "</div>"
            ],
            "text/plain": [
              "               High_x      Low_x     Open_x  ...    Close_y  Volume_y  Adj Close_y\n",
              "Date                                         ...                                  \n",
              "2021-03-01  53.810001  46.580002  49.040001  ...  38.500000  22547300    38.500000\n",
              "2021-03-02  57.020000  48.500000  57.000000  ...  34.889999  17134000    34.889999\n",
              "2021-03-03  55.279999  48.599998  55.139999  ...  36.619999  18378800    36.619999\n",
              "2021-03-04  49.000000  41.330002  47.400002  ...  32.009998  20759800    32.009998\n",
              "2021-03-05  45.250000  34.250000  44.990002  ...  30.030001  24155200    30.030001\n",
              "\n",
              "[5 rows x 12 columns]"
            ]
          },
          "metadata": {
            "tags": []
          },
          "execution_count": 14
        }
      ]
    },
    {
      "cell_type": "code",
      "metadata": {
        "id": "nkG8iN7gFpUJ"
      },
      "source": [
        "# Use only the closing price\n",
        "stocks_df = all_stocks_df.iloc[:,[3,9]]\n",
        "                               \n",
        "stocks_df.columns = [\"RIOT\", \"MARA\"]                              "
      ],
      "execution_count": null,
      "outputs": []
    },
    {
      "cell_type": "code",
      "metadata": {
        "id": "PsBJveHHYm7a",
        "colab": {
          "base_uri": "https://localhost:8080/",
          "height": 206
        },
        "outputId": "7f42f126-35b6-481c-ac5e-c998e90fe783"
      },
      "source": [
        "stocks_df.reset_index(inplace=True)\n",
        "\n",
        "stocks_df.head()"
      ],
      "execution_count": null,
      "outputs": [
        {
          "output_type": "execute_result",
          "data": {
            "text/html": [
              "<div>\n",
              "<style scoped>\n",
              "    .dataframe tbody tr th:only-of-type {\n",
              "        vertical-align: middle;\n",
              "    }\n",
              "\n",
              "    .dataframe tbody tr th {\n",
              "        vertical-align: top;\n",
              "    }\n",
              "\n",
              "    .dataframe thead th {\n",
              "        text-align: right;\n",
              "    }\n",
              "</style>\n",
              "<table border=\"1\" class=\"dataframe\">\n",
              "  <thead>\n",
              "    <tr style=\"text-align: right;\">\n",
              "      <th></th>\n",
              "      <th>Date</th>\n",
              "      <th>RIOT</th>\n",
              "      <th>MARA</th>\n",
              "    </tr>\n",
              "  </thead>\n",
              "  <tbody>\n",
              "    <tr>\n",
              "      <th>0</th>\n",
              "      <td>2021-03-01</td>\n",
              "      <td>53.599998</td>\n",
              "      <td>38.500000</td>\n",
              "    </tr>\n",
              "    <tr>\n",
              "      <th>1</th>\n",
              "      <td>2021-03-02</td>\n",
              "      <td>49.099998</td>\n",
              "      <td>34.889999</td>\n",
              "    </tr>\n",
              "    <tr>\n",
              "      <th>2</th>\n",
              "      <td>2021-03-03</td>\n",
              "      <td>49.570000</td>\n",
              "      <td>36.619999</td>\n",
              "    </tr>\n",
              "    <tr>\n",
              "      <th>3</th>\n",
              "      <td>2021-03-04</td>\n",
              "      <td>44.290001</td>\n",
              "      <td>32.009998</td>\n",
              "    </tr>\n",
              "    <tr>\n",
              "      <th>4</th>\n",
              "      <td>2021-03-05</td>\n",
              "      <td>40.299999</td>\n",
              "      <td>30.030001</td>\n",
              "    </tr>\n",
              "  </tbody>\n",
              "</table>\n",
              "</div>"
            ],
            "text/plain": [
              "        Date       RIOT       MARA\n",
              "0 2021-03-01  53.599998  38.500000\n",
              "1 2021-03-02  49.099998  34.889999\n",
              "2 2021-03-03  49.570000  36.619999\n",
              "3 2021-03-04  44.290001  32.009998\n",
              "4 2021-03-05  40.299999  30.030001"
            ]
          },
          "metadata": {
            "tags": []
          },
          "execution_count": 16
        }
      ]
    },
    {
      "cell_type": "code",
      "metadata": {
        "id": "kzRxvun5jHbC"
      },
      "source": [
        "# Obtain the Cryptocurrency prices for comparison\n",
        "\n",
        "import seaborn as sns\n",
        "import matplotlib.pyplot as plt\n",
        "\n",
        "all_coins_df = my_cryptory.extract_bitinfocharts(\"btc\")\n",
        "# coins of interest\n",
        "bitinfocoins = [\"btc\", \"eth\"]\n",
        "for coin in bitinfocoins[1:]:\n",
        "    all_coins_df = all_coins_df.merge(my_cryptory.extract_bitinfocharts(coin), on=\"date\", how=\"left\")"
      ],
      "execution_count": null,
      "outputs": []
    },
    {
      "cell_type": "code",
      "metadata": {
        "colab": {
          "base_uri": "https://localhost:8080/",
          "height": 269
        },
        "id": "iZXh__ofkJOo",
        "outputId": "cefb73f1-1843-45bb-d86f-fb7de3828ee0"
      },
      "source": [
        "#Merge both stocks and Cryto tokens by their dates for correlation\n",
        "stocks_crypto = stocks_df.merge(all_coins_df, left_on='Date', right_on='date', how ='inner')\n",
        "\n",
        "# Additional date column is not need for upcoming calculations\n",
        "stocks_crypto = stocks_crypto.drop('date', axis=1)\n",
        "\n",
        "stocks_crypto.tail(7)\n"
      ],
      "execution_count": null,
      "outputs": [
        {
          "output_type": "execute_result",
          "data": {
            "text/html": [
              "<div>\n",
              "<style scoped>\n",
              "    .dataframe tbody tr th:only-of-type {\n",
              "        vertical-align: middle;\n",
              "    }\n",
              "\n",
              "    .dataframe tbody tr th {\n",
              "        vertical-align: top;\n",
              "    }\n",
              "\n",
              "    .dataframe thead th {\n",
              "        text-align: right;\n",
              "    }\n",
              "</style>\n",
              "<table border=\"1\" class=\"dataframe\">\n",
              "  <thead>\n",
              "    <tr style=\"text-align: right;\">\n",
              "      <th></th>\n",
              "      <th>Date</th>\n",
              "      <th>RIOT</th>\n",
              "      <th>MARA</th>\n",
              "      <th>btc_price</th>\n",
              "      <th>eth_price</th>\n",
              "    </tr>\n",
              "  </thead>\n",
              "  <tbody>\n",
              "    <tr>\n",
              "      <th>15</th>\n",
              "      <td>2021-03-22</td>\n",
              "      <td>56.009998</td>\n",
              "      <td>39.990002</td>\n",
              "      <td>56805.0</td>\n",
              "      <td>1766.0</td>\n",
              "    </tr>\n",
              "    <tr>\n",
              "      <th>16</th>\n",
              "      <td>2021-03-23</td>\n",
              "      <td>50.119999</td>\n",
              "      <td>38.040001</td>\n",
              "      <td>54699.0</td>\n",
              "      <td>1692.0</td>\n",
              "    </tr>\n",
              "    <tr>\n",
              "      <th>17</th>\n",
              "      <td>2021-03-24</td>\n",
              "      <td>45.709999</td>\n",
              "      <td>34.040001</td>\n",
              "      <td>55203.0</td>\n",
              "      <td>1680.0</td>\n",
              "    </tr>\n",
              "    <tr>\n",
              "      <th>18</th>\n",
              "      <td>2021-03-25</td>\n",
              "      <td>48.169998</td>\n",
              "      <td>34.200001</td>\n",
              "      <td>52126.0</td>\n",
              "      <td>1592.0</td>\n",
              "    </tr>\n",
              "    <tr>\n",
              "      <th>19</th>\n",
              "      <td>2021-03-26</td>\n",
              "      <td>48.220001</td>\n",
              "      <td>36.090000</td>\n",
              "      <td>53220.0</td>\n",
              "      <td>1640.0</td>\n",
              "    </tr>\n",
              "    <tr>\n",
              "      <th>20</th>\n",
              "      <td>2021-03-29</td>\n",
              "      <td>47.889999</td>\n",
              "      <td>38.130001</td>\n",
              "      <td>56908.0</td>\n",
              "      <td>1756.0</td>\n",
              "    </tr>\n",
              "    <tr>\n",
              "      <th>21</th>\n",
              "      <td>2021-03-30</td>\n",
              "      <td>51.509998</td>\n",
              "      <td>44.139999</td>\n",
              "      <td>58671.0</td>\n",
              "      <td>1840.0</td>\n",
              "    </tr>\n",
              "  </tbody>\n",
              "</table>\n",
              "</div>"
            ],
            "text/plain": [
              "         Date       RIOT       MARA  btc_price  eth_price\n",
              "15 2021-03-22  56.009998  39.990002    56805.0     1766.0\n",
              "16 2021-03-23  50.119999  38.040001    54699.0     1692.0\n",
              "17 2021-03-24  45.709999  34.040001    55203.0     1680.0\n",
              "18 2021-03-25  48.169998  34.200001    52126.0     1592.0\n",
              "19 2021-03-26  48.220001  36.090000    53220.0     1640.0\n",
              "20 2021-03-29  47.889999  38.130001    56908.0     1756.0\n",
              "21 2021-03-30  51.509998  44.139999    58671.0     1840.0"
            ]
          },
          "metadata": {
            "tags": []
          },
          "execution_count": 18
        }
      ]
    },
    {
      "cell_type": "code",
      "metadata": {
        "colab": {
          "base_uri": "https://localhost:8080/",
          "height": 324
        },
        "id": "AgG-E056l01g",
        "outputId": "cc3bbff6-6936-4c31-8483-be269409121e"
      },
      "source": [
        "#Drop the Date to run the correlation heat map\n",
        "stocks_trend = stocks_crypto.drop('Date', axis=1)\n",
        "\n",
        "corr = stocks_trend.pct_change().corr(method='pearson')\n",
        "fig, ax = plt.subplots(figsize=(7,5))\n",
        "\n",
        "sns.heatmap(corr, \n",
        "            xticklabels=[col.replace(\"_price\", \"\") for col in corr.columns.values],\n",
        "            yticklabels=[col.replace(\"_price\", \"\") for col in corr.columns.values],\n",
        "            annot_kws={\"size\": 16})\n",
        "plt.show()"
      ],
      "execution_count": null,
      "outputs": [
        {
          "output_type": "display_data",
          "data": {
            "image/png": "[encoded data removed]",
            "text/plain": [
              "<Figure size 504x360 with 2 Axes>"
            ]
          },
          "metadata": {
            "tags": [],
            "needs_background": "light"
          }
        }
      ]
    },
    {
      "cell_type": "code",
      "metadata": {
        "id": "THw7V8jezlQl"
      },
      "source": [
        "#Stock ticker RIOT is less correlated to BTC. Price changes in the future could be forecast with the H2O.ai AutoML package/framework\n",
        "\n",
        "#Install JVM for framework\n",
        "!apt-get install openjdk-8-jdk -qq > /dev/null"
      ],
      "execution_count": 1,
      "outputs": []
    },
    {
      "cell_type": "code",
      "metadata": {
        "colab": {
          "base_uri": "https://localhost:8080/"
        },
        "id": "KAP98PE20lTC",
        "outputId": "e53939f7-c75a-47aa-cbd1-67c1439743dc"
      },
      "source": [
        "!pip install h2o -qq"
      ],
      "execution_count": 2,
      "outputs": [
        {
          "output_type": "stream",
          "text": [
            "\u001b[K     |████████████████████████████████| 164.8MB 78kB/s \n",
            "\u001b[?25h  Building wheel for h2o (setup.py) ... \u001b[?25l\u001b[?25hdone\n"
          ],
          "name": "stdout"
        }
      ]
    },
    {
      "cell_type": "code",
      "metadata": {
        "id": "SxGuKHMB2zEh"
      },
      "source": [
        "#Use a 7 day time interval and API Key for the RIOT ticker forecast with more data points\n",
        "import os\n",
        "from datetime import datetime\n",
        "\n",
        "# Make sure you obtain a key from their site\n",
        "os.environ[\"ALPHAVANTAGE_API_KEY\"] = \"APIKEY_PROVIDED_FHJ\"\n",
        "\n",
        "import pandas_datareader.data as web"
      ],
      "execution_count": 20,
      "outputs": []
    },
    {
      "cell_type": "code",
      "metadata": {
        "id": "ftpTeiBi37Qv"
      },
      "source": [
        "f = web.DataReader(\"RIOT\", \"av-intraday\", start=datetime(2021, 3, 24),end=datetime(2021, 4, 1), api_key=os.getenv('ALPHAVANTAGE_API_KEY'))"
      ],
      "execution_count": 4,
      "outputs": []
    },
    {
      "cell_type": "code",
      "metadata": {
        "colab": {
          "base_uri": "https://localhost:8080/",
          "height": 206
        },
        "id": "nUihGrmEMG_L",
        "outputId": "e054fe0d-4417-4bad-b83b-211e8be75b8e"
      },
      "source": [
        "#Using the Alpha Vantage key after registering on their site provides the following dataframe\n",
        "f.head()\n"
      ],
      "execution_count": 5,
      "outputs": [
        {
          "output_type": "execute_result",
          "data": {
            "text/html": [
              "<div>\n",
              "<style scoped>\n",
              "    .dataframe tbody tr th:only-of-type {\n",
              "        vertical-align: middle;\n",
              "    }\n",
              "\n",
              "    .dataframe tbody tr th {\n",
              "        vertical-align: top;\n",
              "    }\n",
              "\n",
              "    .dataframe thead th {\n",
              "        text-align: right;\n",
              "    }\n",
              "</style>\n",
              "<table border=\"1\" class=\"dataframe\">\n",
              "  <thead>\n",
              "    <tr style=\"text-align: right;\">\n",
              "      <th></th>\n",
              "      <th>open</th>\n",
              "      <th>high</th>\n",
              "      <th>low</th>\n",
              "      <th>close</th>\n",
              "      <th>volume</th>\n",
              "    </tr>\n",
              "  </thead>\n",
              "  <tbody>\n",
              "    <tr>\n",
              "      <th>2021-03-24 04:01:00</th>\n",
              "      <td>52.25</td>\n",
              "      <td>52.80</td>\n",
              "      <td>52.25</td>\n",
              "      <td>52.80</td>\n",
              "      <td>1881</td>\n",
              "    </tr>\n",
              "    <tr>\n",
              "      <th>2021-03-24 04:02:00</th>\n",
              "      <td>52.81</td>\n",
              "      <td>53.25</td>\n",
              "      <td>52.81</td>\n",
              "      <td>53.25</td>\n",
              "      <td>2264</td>\n",
              "    </tr>\n",
              "    <tr>\n",
              "      <th>2021-03-24 04:03:00</th>\n",
              "      <td>54.00</td>\n",
              "      <td>54.00</td>\n",
              "      <td>53.75</td>\n",
              "      <td>53.75</td>\n",
              "      <td>1633</td>\n",
              "    </tr>\n",
              "    <tr>\n",
              "      <th>2021-03-24 04:04:00</th>\n",
              "      <td>53.45</td>\n",
              "      <td>53.45</td>\n",
              "      <td>52.80</td>\n",
              "      <td>53.00</td>\n",
              "      <td>1226</td>\n",
              "    </tr>\n",
              "    <tr>\n",
              "      <th>2021-03-24 04:05:00</th>\n",
              "      <td>53.00</td>\n",
              "      <td>53.00</td>\n",
              "      <td>53.00</td>\n",
              "      <td>53.00</td>\n",
              "      <td>607</td>\n",
              "    </tr>\n",
              "  </tbody>\n",
              "</table>\n",
              "</div>"
            ],
            "text/plain": [
              "                      open   high    low  close  volume\n",
              "2021-03-24 04:01:00  52.25  52.80  52.25  52.80    1881\n",
              "2021-03-24 04:02:00  52.81  53.25  52.81  53.25    2264\n",
              "2021-03-24 04:03:00  54.00  54.00  53.75  53.75    1633\n",
              "2021-03-24 04:04:00  53.45  53.45  52.80  53.00    1226\n",
              "2021-03-24 04:05:00  53.00  53.00  53.00  53.00     607"
            ]
          },
          "metadata": {
            "tags": []
          },
          "execution_count": 5
        }
      ]
    },
    {
      "cell_type": "code",
      "metadata": {
        "id": "n-sKw-C471KC",
        "colab": {
          "base_uri": "https://localhost:8080/"
        },
        "outputId": "4160916f-7b02-4746-b7f6-70d939417431"
      },
      "source": [
        "# By using the closing price and volume you create lagged features by day to input into the model\n",
        "\n",
        "df=f[['close','volume']]\n",
        "\n",
        "num_lags=10\n",
        "for lag in range(3, num_lags + 1):\n",
        "    df['lag_' + str(lag)] = df.close.shift(lag)"
      ],
      "execution_count": 6,
      "outputs": [
        {
          "output_type": "stream",
          "text": [
            "/usr/local/lib/python3.7/dist-packages/ipykernel_launcher.py:7: SettingWithCopyWarning: \n",
            "A value is trying to be set on a copy of a slice from a DataFrame.\n",
            "Try using .loc[row_indexer,col_indexer] = value instead\n",
            "\n",
            "See the caveats in the documentation: https://pandas.pydata.org/pandas-docs/stable/user_guide/indexing.html#returning-a-view-versus-a-copy\n",
            "  import sys\n"
          ],
          "name": "stderr"
        }
      ]
    },
    {
      "cell_type": "code",
      "metadata": {
        "colab": {
          "base_uri": "https://localhost:8080/"
        },
        "id": "pbcu870sOkDx",
        "outputId": "57c095f8-15db-4f6d-f949-0dc82d81043d"
      },
      "source": [
        "# Drop the null values from the time lagged features added to the dataframe as well as the volume since the forecast is for closing price\n",
        "\n",
        "df=df.dropna()\n",
        "df_processed = df.drop(columns='volume')\n",
        "# Create the processed dataframe without the closing price and reset index\n",
        "df_processed.reset_index(drop=True,inplace=True)\n",
        "\n",
        "df_processed.info()"
      ],
      "execution_count": 7,
      "outputs": [
        {
          "output_type": "stream",
          "text": [
            "<class 'pandas.core.frame.DataFrame'>\n",
            "RangeIndex: 4645 entries, 0 to 4644\n",
            "Data columns (total 9 columns):\n",
            " #   Column  Non-Null Count  Dtype  \n",
            "---  ------  --------------  -----  \n",
            " 0   close   4645 non-null   float64\n",
            " 1   lag_3   4645 non-null   float64\n",
            " 2   lag_4   4645 non-null   float64\n",
            " 3   lag_5   4645 non-null   float64\n",
            " 4   lag_6   4645 non-null   float64\n",
            " 5   lag_7   4645 non-null   float64\n",
            " 6   lag_8   4645 non-null   float64\n",
            " 7   lag_9   4645 non-null   float64\n",
            " 8   lag_10  4645 non-null   float64\n",
            "dtypes: float64(9)\n",
            "memory usage: 326.7 KB\n"
          ],
          "name": "stdout"
        }
      ]
    },
    {
      "cell_type": "code",
      "metadata": {
        "id": "7KamMe9QRF2K"
      },
      "source": [
        "#Use df_processed to create the test and train dataframes for the H2O ML model based on the prior time series interval\n",
        "\n",
        "df_train = df_processed.loc[:int(df_processed.shape[0]*0.8),:]\n",
        "df_test = df_processed.loc[int(df_processed.shape[0]*0.8):,:]"
      ],
      "execution_count": 8,
      "outputs": []
    },
    {
      "cell_type": "code",
      "metadata": {
        "id": "zSoJ_7oySLsb"
      },
      "source": [
        "# Import H2O libraries and Matplot Libraries for plotting the forecasting results\n",
        "\n",
        "import pandas as pd\n",
        "import h2o\n",
        "from h2o.automl import H2OAutoML\n",
        "\n",
        "import matplotlib.pyplot as plt\n",
        "from scipy import stats\n",
        "\n",
        "\n",
        "%matplotlib inline"
      ],
      "execution_count": 9,
      "outputs": []
    },
    {
      "cell_type": "code",
      "metadata": {
        "colab": {
          "base_uri": "https://localhost:8080/",
          "height": 555
        },
        "id": "mq9g_ycRRgkH",
        "outputId": "13bbdce8-fcdb-4223-a1a4-fb80d750a018"
      },
      "source": [
        "#Start the H2O instance that runs on the JVM\n",
        "\n",
        "h2o.init()"
      ],
      "execution_count": 10,
      "outputs": [
        {
          "output_type": "stream",
          "text": [
            "Checking whether there is an H2O instance running at http://localhost:54321 ..... not found.\n",
            "Attempting to start a local H2O server...\n",
            "  Java Version: openjdk version \"11.0.10\" 2021-01-19; OpenJDK Runtime Environment (build 11.0.10+9-Ubuntu-0ubuntu1.18.04); OpenJDK 64-Bit Server VM (build 11.0.10+9-Ubuntu-0ubuntu1.18.04, mixed mode)\n",
            "  Starting server from /usr/local/lib/python3.7/dist-packages/h2o/backend/bin/h2o.jar\n",
            "  Ice root: /tmp/tmpn7p8vfm6\n",
            "  JVM stdout: /tmp/tmpn7p8vfm6/h2o_unknownUser_started_from_python.out\n",
            "  JVM stderr: /tmp/tmpn7p8vfm6/h2o_unknownUser_started_from_python.err\n",
            "  Server is running at http://127.0.0.1:54321\n",
            "Connecting to H2O server at http://127.0.0.1:54321 ... successful.\n"
          ],
          "name": "stdout"
        },
        {
          "output_type": "display_data",
          "data": {
            "text/html": [
              "<div style=\"overflow:auto\"><table style=\"width:50%\"><tr><td>H2O_cluster_uptime:</td>\n",
              "<td>03 secs</td></tr>\n",
              "<tr><td>H2O_cluster_timezone:</td>\n",
              "<td>Etc/UTC</td></tr>\n",
              "<tr><td>H2O_data_parsing_timezone:</td>\n",
              "<td>UTC</td></tr>\n",
              "<tr><td>H2O_cluster_version:</td>\n",
              "<td>3.32.1.1</td></tr>\n",
              "<tr><td>H2O_cluster_version_age:</td>\n",
              "<td>9 days </td></tr>\n",
              "<tr><td>H2O_cluster_name:</td>\n",
              "<td>H2O_from_python_unknownUser_r7m58y</td></tr>\n",
              "<tr><td>H2O_cluster_total_nodes:</td>\n",
              "<td>1</td></tr>\n",
              "<tr><td>H2O_cluster_free_memory:</td>\n",
              "<td>3.180 Gb</td></tr>\n",
              "<tr><td>H2O_cluster_total_cores:</td>\n",
              "<td>2</td></tr>\n",
              "<tr><td>H2O_cluster_allowed_cores:</td>\n",
              "<td>2</td></tr>\n",
              "<tr><td>H2O_cluster_status:</td>\n",
              "<td>accepting new members, healthy</td></tr>\n",
              "<tr><td>H2O_connection_url:</td>\n",
              "<td>http://127.0.0.1:54321</td></tr>\n",
              "<tr><td>H2O_connection_proxy:</td>\n",
              "<td>{\"http\": null, \"https\": null}</td></tr>\n",
              "<tr><td>H2O_internal_security:</td>\n",
              "<td>False</td></tr>\n",
              "<tr><td>H2O_API_Extensions:</td>\n",
              "<td>Amazon S3, XGBoost, Algos, AutoML, Core V3, TargetEncoder, Core V4</td></tr>\n",
              "<tr><td>Python_version:</td>\n",
              "<td>3.7.10 final</td></tr></table></div>"
            ],
            "text/plain": [
              "--------------------------  ------------------------------------------------------------------\n",
              "H2O_cluster_uptime:         03 secs\n",
              "H2O_cluster_timezone:       Etc/UTC\n",
              "H2O_data_parsing_timezone:  UTC\n",
              "H2O_cluster_version:        3.32.1.1\n",
              "H2O_cluster_version_age:    9 days\n",
              "H2O_cluster_name:           H2O_from_python_unknownUser_r7m58y\n",
              "H2O_cluster_total_nodes:    1\n",
              "H2O_cluster_free_memory:    3.180 Gb\n",
              "H2O_cluster_total_cores:    2\n",
              "H2O_cluster_allowed_cores:  2\n",
              "H2O_cluster_status:         accepting new members, healthy\n",
              "H2O_connection_url:         http://127.0.0.1:54321\n",
              "H2O_connection_proxy:       {\"http\": null, \"https\": null}\n",
              "H2O_internal_security:      False\n",
              "H2O_API_Extensions:         Amazon S3, XGBoost, Algos, AutoML, Core V3, TargetEncoder, Core V4\n",
              "Python_version:             3.7.10 final\n",
              "--------------------------  ------------------------------------------------------------------"
            ]
          },
          "metadata": {
            "tags": []
          }
        }
      ]
    },
    {
      "cell_type": "code",
      "metadata": {
        "colab": {
          "base_uri": "https://localhost:8080/",
          "height": 528
        },
        "id": "UyGq7ncySqfQ",
        "outputId": "cb0441f1-3471-484c-dc2c-203f9e152081"
      },
      "source": [
        "# Create the H2O frames from the dataframes for test and train\n",
        "\n",
        "hf_train = h2o.H2OFrame(df_train)\n",
        "hf_test = h2o.H2OFrame(df_test)\n",
        "\n",
        "hf_train.describe()"
      ],
      "execution_count": 11,
      "outputs": [
        {
          "output_type": "stream",
          "text": [
            "Parse progress: |█████████████████████████████████████████████████████████| 100%\n",
            "Parse progress: |█████████████████████████████████████████████████████████| 100%\n",
            "Rows:3717\n",
            "Cols:9\n",
            "\n",
            "\n"
          ],
          "name": "stdout"
        },
        {
          "output_type": "display_data",
          "data": {
            "text/html": [
              "<table>\n",
              "<thead>\n",
              "<tr><th>       </th><th>close             </th><th>lag_3             </th><th>lag_4             </th><th>lag_5             </th><th>lag_6             </th><th>lag_7            </th><th>lag_8            </th><th>lag_9            </th><th>lag_10            </th></tr>\n",
              "</thead>\n",
              "<tbody>\n",
              "<tr><td>type   </td><td>real              </td><td>real              </td><td>real              </td><td>real              </td><td>real              </td><td>real             </td><td>real             </td><td>real             </td><td>real              </td></tr>\n",
              "<tr><td>mins   </td><td>37.82             </td><td>37.82             </td><td>37.82             </td><td>37.82             </td><td>37.82             </td><td>37.82            </td><td>37.82            </td><td>37.82            </td><td>37.82             </td></tr>\n",
              "<tr><td>mean   </td><td>48.41447481840192 </td><td>48.415919531880625</td><td>48.41630425073986 </td><td>48.416810034974525</td><td>48.41715439870861 </td><td>48.4175175948345 </td><td>48.41816058649448</td><td>48.41871614205019</td><td>48.41914390637617 </td></tr>\n",
              "<tr><td>maxs   </td><td>55.6199           </td><td>55.6199           </td><td>55.6199           </td><td>55.6199           </td><td>55.6199           </td><td>55.6199          </td><td>55.6199          </td><td>55.6199          </td><td>55.6199           </td></tr>\n",
              "<tr><td>sigma  </td><td>3.0262641857333414</td><td>3.0281841363432815</td><td>3.0286986263403666</td><td>3.029385666773124 </td><td>3.0298339745783736</td><td>3.030302488898132</td><td>3.031180450893075</td><td>3.031876851295003</td><td>3.0323829000715707</td></tr>\n",
              "<tr><td>zeros  </td><td>0                 </td><td>0                 </td><td>0                 </td><td>0                 </td><td>0                 </td><td>0                </td><td>0                </td><td>0                </td><td>0                 </td></tr>\n",
              "<tr><td>missing</td><td>0                 </td><td>0                 </td><td>0                 </td><td>0                 </td><td>0                 </td><td>0                </td><td>0                </td><td>0                </td><td>0                 </td></tr>\n",
              "<tr><td>0      </td><td>53.4              </td><td>53.3              </td><td>53.18             </td><td>53.47             </td><td>53.0              </td><td>53.0             </td><td>53.75            </td><td>53.25            </td><td>52.8              </td></tr>\n",
              "<tr><td>1      </td><td>53.4              </td><td>53.3              </td><td>53.3              </td><td>53.18             </td><td>53.47             </td><td>53.0             </td><td>53.0             </td><td>53.75            </td><td>53.25             </td></tr>\n",
              "<tr><td>2      </td><td>53.5              </td><td>53.4              </td><td>53.3              </td><td>53.3              </td><td>53.18             </td><td>53.47            </td><td>53.0             </td><td>53.0             </td><td>53.75             </td></tr>\n",
              "<tr><td>3      </td><td>53.35             </td><td>53.4              </td><td>53.4              </td><td>53.3              </td><td>53.3              </td><td>53.18            </td><td>53.47            </td><td>53.0             </td><td>53.0              </td></tr>\n",
              "<tr><td>4      </td><td>53.47             </td><td>53.4              </td><td>53.4              </td><td>53.4              </td><td>53.3              </td><td>53.3             </td><td>53.18            </td><td>53.47            </td><td>53.0              </td></tr>\n",
              "<tr><td>5      </td><td>53.5              </td><td>53.5              </td><td>53.4              </td><td>53.4              </td><td>53.4              </td><td>53.3             </td><td>53.3             </td><td>53.18            </td><td>53.47             </td></tr>\n",
              "<tr><td>6      </td><td>53.7              </td><td>53.35             </td><td>53.5              </td><td>53.4              </td><td>53.4              </td><td>53.4             </td><td>53.3             </td><td>53.3             </td><td>53.18             </td></tr>\n",
              "<tr><td>7      </td><td>53.84             </td><td>53.47             </td><td>53.35             </td><td>53.5              </td><td>53.4              </td><td>53.4             </td><td>53.4             </td><td>53.3             </td><td>53.3              </td></tr>\n",
              "<tr><td>8      </td><td>53.9              </td><td>53.5              </td><td>53.47             </td><td>53.35             </td><td>53.5              </td><td>53.4             </td><td>53.4             </td><td>53.4             </td><td>53.3              </td></tr>\n",
              "<tr><td>9      </td><td>54.0              </td><td>53.7              </td><td>53.5              </td><td>53.47             </td><td>53.35             </td><td>53.5             </td><td>53.4             </td><td>53.4             </td><td>53.4              </td></tr>\n",
              "</tbody>\n",
              "</table>"
            ]
          },
          "metadata": {
            "tags": []
          }
        }
      ]
    },
    {
      "cell_type": "code",
      "metadata": {
        "colab": {
          "base_uri": "https://localhost:8080/"
        },
        "id": "MLVJv2PkTn5m",
        "outputId": "9ccb5cb0-aa95-4cfa-8857-3498b9cd485f"
      },
      "source": [
        "y = 'close'\n",
        "X = hf_train.columns\n",
        "X.remove(y)\n",
        "\n",
        "#Show features\n",
        "X"
      ],
      "execution_count": 12,
      "outputs": [
        {
          "output_type": "execute_result",
          "data": {
            "text/plain": [
              "['lag_3', 'lag_4', 'lag_5', 'lag_6', 'lag_7', 'lag_8', 'lag_9', 'lag_10']"
            ]
          },
          "metadata": {
            "tags": []
          },
          "execution_count": 12
        }
      ]
    },
    {
      "cell_type": "code",
      "metadata": {
        "colab": {
          "base_uri": "https://localhost:8080/"
        },
        "id": "YTHQ4zwOT4jz",
        "outputId": "12a4f938-bd2f-4e66-b4d4-ed78c3029b6c"
      },
      "source": [
        "# Run the AutoML function in H2O to find the best performing  ML model\n",
        "\n",
        "aml = H2OAutoML(max_runtime_secs = 60,\n",
        "                seed = 42)\n",
        "aml.train(x = X, \n",
        "          y = y,\n",
        "          training_frame = hf_train,\n",
        "          leaderboard_frame = hf_test)"
      ],
      "execution_count": 13,
      "outputs": [
        {
          "output_type": "stream",
          "text": [
            "AutoML progress: |████████████████████████████████████████████████████████| 100%\n"
          ],
          "name": "stdout"
        }
      ]
    },
    {
      "cell_type": "code",
      "metadata": {
        "colab": {
          "base_uri": "https://localhost:8080/",
          "height": 254
        },
        "id": "xqEE_SGQUpEk",
        "outputId": "336ea7bf-8d77-4085-bceb-356e9725c1d0"
      },
      "source": [
        "#Check the leaderboard for the performance of the various models\n",
        "lb = aml.leaderboard\n",
        "\n",
        "lb"
      ],
      "execution_count": 14,
      "outputs": [
        {
          "output_type": "display_data",
          "data": {
            "text/html": [
              "<table>\n",
              "<thead>\n",
              "<tr><th>model_id                                           </th><th style=\"text-align: right;\">  mean_residual_deviance</th><th style=\"text-align: right;\">    rmse</th><th style=\"text-align: right;\">      mse</th><th style=\"text-align: right;\">     mae</th><th style=\"text-align: right;\">     rmsle</th></tr>\n",
              "</thead>\n",
              "<tbody>\n",
              "<tr><td>GLM_1_AutoML_20210404_155556                       </td><td style=\"text-align: right;\">               0.0634613</td><td style=\"text-align: right;\">0.251915</td><td style=\"text-align: right;\">0.0634613</td><td style=\"text-align: right;\">0.179937</td><td style=\"text-align: right;\">0.004773  </td></tr>\n",
              "<tr><td>XGBoost_grid__1_AutoML_20210404_155556_model_1     </td><td style=\"text-align: right;\">               0.0783936</td><td style=\"text-align: right;\">0.279989</td><td style=\"text-align: right;\">0.0783936</td><td style=\"text-align: right;\">0.201402</td><td style=\"text-align: right;\">0.00530175</td></tr>\n",
              "<tr><td>XGBoost_grid__1_AutoML_20210404_155556_model_2     </td><td style=\"text-align: right;\">               0.0786883</td><td style=\"text-align: right;\">0.280514</td><td style=\"text-align: right;\">0.0786883</td><td style=\"text-align: right;\">0.20552 </td><td style=\"text-align: right;\">0.00531309</td></tr>\n",
              "<tr><td>XGBoost_grid__1_AutoML_20210404_155556_model_3     </td><td style=\"text-align: right;\">               0.0810122</td><td style=\"text-align: right;\">0.284626</td><td style=\"text-align: right;\">0.0810122</td><td style=\"text-align: right;\">0.206664</td><td style=\"text-align: right;\">0.00538784</td></tr>\n",
              "<tr><td>XGBoost_3_AutoML_20210404_155556                   </td><td style=\"text-align: right;\">               0.082149 </td><td style=\"text-align: right;\">0.286617</td><td style=\"text-align: right;\">0.082149 </td><td style=\"text-align: right;\">0.201171</td><td style=\"text-align: right;\">0.00543622</td></tr>\n",
              "<tr><td>XGBoost_2_AutoML_20210404_155556                   </td><td style=\"text-align: right;\">               0.0933609</td><td style=\"text-align: right;\">0.30555 </td><td style=\"text-align: right;\">0.0933609</td><td style=\"text-align: right;\">0.222661</td><td style=\"text-align: right;\">0.0057843 </td></tr>\n",
              "<tr><td>DeepLearning_grid__1_AutoML_20210404_155556_model_1</td><td style=\"text-align: right;\">               0.101253 </td><td style=\"text-align: right;\">0.318203</td><td style=\"text-align: right;\">0.101253 </td><td style=\"text-align: right;\">0.21925 </td><td style=\"text-align: right;\">0.00603512</td></tr>\n",
              "<tr><td>DeepLearning_1_AutoML_20210404_155556              </td><td style=\"text-align: right;\">               0.109988 </td><td style=\"text-align: right;\">0.331644</td><td style=\"text-align: right;\">0.109988 </td><td style=\"text-align: right;\">0.244213</td><td style=\"text-align: right;\">0.00625275</td></tr>\n",
              "<tr><td>XRT_1_AutoML_20210404_155556                       </td><td style=\"text-align: right;\">               0.110761 </td><td style=\"text-align: right;\">0.332808</td><td style=\"text-align: right;\">0.110761 </td><td style=\"text-align: right;\">0.248535</td><td style=\"text-align: right;\">0.00629595</td></tr>\n",
              "<tr><td>DRF_1_AutoML_20210404_155556                       </td><td style=\"text-align: right;\">               0.143665 </td><td style=\"text-align: right;\">0.379032</td><td style=\"text-align: right;\">0.143665 </td><td style=\"text-align: right;\">0.277512</td><td style=\"text-align: right;\">0.00718988</td></tr>\n",
              "</tbody>\n",
              "</table>"
            ]
          },
          "metadata": {
            "tags": []
          }
        },
        {
          "output_type": "execute_result",
          "data": {
            "text/plain": [
              ""
            ]
          },
          "metadata": {
            "tags": []
          },
          "execution_count": 14
        }
      ]
    },
    {
      "cell_type": "code",
      "metadata": {
        "colab": {
          "base_uri": "https://localhost:8080/"
        },
        "id": "_Zv-I9TTU8Ix",
        "outputId": "8dce4b9c-928a-4e5e-abf0-227310421707"
      },
      "source": [
        "#Use the Linear model to run the prediction\n",
        "leader_model = aml.leader\n",
        "hf_test_predict = leader_model.predict(hf_test)"
      ],
      "execution_count": 15,
      "outputs": [
        {
          "output_type": "stream",
          "text": [
            "glm prediction progress: |████████████████████████████████████████████████| 100%\n"
          ],
          "name": "stdout"
        }
      ]
    },
    {
      "cell_type": "code",
      "metadata": {
        "id": "PTvKxMTgVhh_"
      },
      "source": [
        "# You will get the test dataset predictions into a dataframe to plot\n",
        "\n",
        "df_results = pd.DataFrame()\n",
        "df_results['ground_truth'] = df_test['close'].reset_index(drop=True)"
      ],
      "execution_count": 16,
      "outputs": []
    },
    {
      "cell_type": "code",
      "metadata": {
        "colab": {
          "base_uri": "https://localhost:8080/",
          "height": 206
        },
        "id": "r_ai3jZynGis",
        "outputId": "b6c677d3-1315-4d01-9155-146a80c95fa6"
      },
      "source": [
        "# Get the H2O predictions into the same dataframe for comparison\n",
        "df_results['predictions'] = h2o.as_list(hf_test_predict,use_pandas=True)\n",
        "df_results.head()"
      ],
      "execution_count": 17,
      "outputs": [
        {
          "output_type": "execute_result",
          "data": {
            "text/html": [
              "<div>\n",
              "<style scoped>\n",
              "    .dataframe tbody tr th:only-of-type {\n",
              "        vertical-align: middle;\n",
              "    }\n",
              "\n",
              "    .dataframe tbody tr th {\n",
              "        vertical-align: top;\n",
              "    }\n",
              "\n",
              "    .dataframe thead th {\n",
              "        text-align: right;\n",
              "    }\n",
              "</style>\n",
              "<table border=\"1\" class=\"dataframe\">\n",
              "  <thead>\n",
              "    <tr style=\"text-align: right;\">\n",
              "      <th></th>\n",
              "      <th>ground_truth</th>\n",
              "      <th>predictions</th>\n",
              "    </tr>\n",
              "  </thead>\n",
              "  <tbody>\n",
              "    <tr>\n",
              "      <th>0</th>\n",
              "      <td>51.610</td>\n",
              "      <td>51.733417</td>\n",
              "    </tr>\n",
              "    <tr>\n",
              "      <th>1</th>\n",
              "      <td>51.550</td>\n",
              "      <td>51.611345</td>\n",
              "    </tr>\n",
              "    <tr>\n",
              "      <th>2</th>\n",
              "      <td>51.530</td>\n",
              "      <td>51.445157</td>\n",
              "    </tr>\n",
              "    <tr>\n",
              "      <th>3</th>\n",
              "      <td>51.735</td>\n",
              "      <td>51.557756</td>\n",
              "    </tr>\n",
              "    <tr>\n",
              "      <th>4</th>\n",
              "      <td>51.530</td>\n",
              "      <td>51.520235</td>\n",
              "    </tr>\n",
              "  </tbody>\n",
              "</table>\n",
              "</div>"
            ],
            "text/plain": [
              "   ground_truth  predictions\n",
              "0        51.610    51.733417\n",
              "1        51.550    51.611345\n",
              "2        51.530    51.445157\n",
              "3        51.735    51.557756\n",
              "4        51.530    51.520235"
            ]
          },
          "metadata": {
            "tags": []
          },
          "execution_count": 17
        }
      ]
    },
    {
      "cell_type": "code",
      "metadata": {
        "colab": {
          "base_uri": "https://localhost:8080/"
        },
        "id": "TlqGx7yAXlwV",
        "outputId": "018f33f3-a292-4ee1-a1cc-e6f2f990a6a5"
      },
      "source": [
        "# You can also get the R2 value for the same test dataset\n",
        "slope, intercept, r_value, p_value, std_err = stats.linregress(x=df_results['predictions'],y=df_results['ground_truth'])\n",
        "print('R2 = ',r_value*r_value)"
      ],
      "execution_count": 18,
      "outputs": [
        {
          "output_type": "stream",
          "text": [
            "R2 =  0.972055001566314\n"
          ],
          "name": "stdout"
        }
      ]
    },
    {
      "cell_type": "code",
      "metadata": {
        "colab": {
          "base_uri": "https://localhost:8080/",
          "height": 265
        },
        "id": "9Mz8xAz9oKnn",
        "outputId": "a700380f-ea8b-44b4-a4e6-e5e98ab0c802"
      },
      "source": [
        "#Plot the results for the dataframe\n",
        "plt.plot(df_results['ground_truth'])\n",
        "plt.plot(df_results['predictions'])\n",
        "plt.ylabel('close price',fontsize=18)\n",
        "plt.legend(['ground_truth','prediction'])\n",
        "plt.show()"
      ],
      "execution_count": 19,
      "outputs": [
        {
          "output_type": "display_data",
          "data": {
            "image/png": "[encoded data removed]",
            "text/plain": [
              "<Figure size 432x288 with 1 Axes>"
            ]
          },
          "metadata": {
            "tags": [],
            "needs_background": "light"
          }
        }
      ]
    }
  ]
}